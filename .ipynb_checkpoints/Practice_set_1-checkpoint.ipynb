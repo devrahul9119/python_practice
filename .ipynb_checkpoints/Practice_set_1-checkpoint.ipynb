{
 "cells": [
  {
   "cell_type": "code",
   "execution_count": 4,
   "id": "78d86c1c-ae37-40d9-bb6b-9386e4b2730e",
   "metadata": {},
   "outputs": [
    {
     "name": "stdin",
     "output_type": "stream",
     "text": [
      "Enter the number of students you want to enter data :  2\n",
      "Enter the name of student :  Rahul\n",
      "Enter email :  devrahul9119@gmail.com\n",
      "Enter mobile :  9034609119\n",
      "Enter password :  Rahul1234\n",
      "Enter the name of student :  Meghna\n",
      "Enter email :  thakurmeghnaparmar@gmail.com\n",
      "Enter mobile :  9816322731\n",
      "Enter password :  Megha2002\n"
     ]
    }
   ],
   "source": [
    "n = int(input('Enter the number of students you want to enter data : '))\n",
    "for i in range(n):\n",
    "    name = input('Enter the name of student : ')\n",
    "    email = input('Enter email : ')\n",
    "    mobile = input('Enter mobile : ')\n",
    "    password = input('Enter password : ')\n",
    "    data[name] = [email,mobile,password]"
   ]
  },
  {
   "cell_type": "code",
   "execution_count": 18,
   "id": "c6ba797e-4a9d-4840-a49d-3820e007506f",
   "metadata": {},
   "outputs": [
    {
     "name": "stdin",
     "output_type": "stream",
     "text": [
      "Enter your name :  Rahul\n",
      "Enter your email :  devrahul9119@gmail.com\n",
      "Enter your registered mobile number :  9034609119\n",
      "Enter your password :  Rahul1234\n"
     ]
    },
    {
     "name": "stdout",
     "output_type": "stream",
     "text": [
      "Congrats you are logged in to our company website\n"
     ]
    }
   ],
   "source": [
    "name = input('Enter your name : ')\n",
    "email_id = input('Enter your email : ')\n",
    "mobile = input('Enter your registered mobile number : ')\n",
    "password = input('Enter your password : ')\n",
    "if name in data:\n",
    "    if data[name]==[email_id,mobile,password]:\n",
    "        print('Congrats you are logged in to our company website')\n",
    "    elif data[name][0] != email_id:\n",
    "        print('Enter correct email')\n",
    "    elif data[name][1] != mobile:\n",
    "        print('Enter correct mobile')\n",
    "    elif data[name][2] != password:\n",
    "        print('Enter correct password')\n",
    "    else:\n",
    "        print('Please check your name')\n",
    "else:\n",
    "    print('Enter correct details')"
   ]
  },
  {
   "cell_type": "code",
   "execution_count": 19,
   "id": "129a41ad-01e9-411f-bf7f-9c8d4d78e33f",
   "metadata": {},
   "outputs": [],
   "source": [
    "a = set()"
   ]
  },
  {
   "cell_type": "code",
   "execution_count": 23,
   "id": "af51cb76-7220-42a0-9fd2-6f740914da6b",
   "metadata": {},
   "outputs": [],
   "source": [
    "a.add('Rahul')\n",
    "a.add('Dev')\n",
    "a.add('Ram')"
   ]
  },
  {
   "cell_type": "code",
   "execution_count": 26,
   "id": "58e05bad-0ac3-4086-9a99-4153e6aab218",
   "metadata": {},
   "outputs": [
    {
     "data": {
      "text/plain": [
       "set"
      ]
     },
     "execution_count": 26,
     "metadata": {},
     "output_type": "execute_result"
    }
   ],
   "source": [
    "type(a)"
   ]
  },
  {
   "cell_type": "code",
   "execution_count": 27,
   "id": "e3a07104-78a6-41a8-9789-2baf68c821f6",
   "metadata": {},
   "outputs": [],
   "source": [
    "b = {20,21,22}"
   ]
  },
  {
   "cell_type": "code",
   "execution_count": 28,
   "id": "2bc14548-77df-43bf-84f9-aff2584d1519",
   "metadata": {},
   "outputs": [
    {
     "data": {
      "text/plain": [
       "{20, 21, 22, 'Dev', 'Rahul', 'Ram'}"
      ]
     },
     "execution_count": 28,
     "metadata": {},
     "output_type": "execute_result"
    }
   ],
   "source": [
    "a.union(b)"
   ]
  },
  {
   "cell_type": "code",
   "execution_count": 29,
   "id": "a000262f-98fe-4bf0-b617-48146347acf7",
   "metadata": {},
   "outputs": [
    {
     "data": {
      "text/plain": [
       "{'Dev', 'Rahul', 'Ram'}"
      ]
     },
     "execution_count": 29,
     "metadata": {},
     "output_type": "execute_result"
    }
   ],
   "source": [
    "a.difference(b)"
   ]
  },
  {
   "cell_type": "code",
   "execution_count": 30,
   "id": "f897363a-9457-4437-beed-d2a875c56172",
   "metadata": {},
   "outputs": [
    {
     "data": {
      "text/plain": [
       "{20, 21, 22}"
      ]
     },
     "execution_count": 30,
     "metadata": {},
     "output_type": "execute_result"
    }
   ],
   "source": [
    "b.difference(a)"
   ]
  },
  {
   "cell_type": "code",
   "execution_count": 31,
   "id": "93cecd0a-f41e-4eed-bafd-fa82f47225f2",
   "metadata": {},
   "outputs": [
    {
     "data": {
      "text/plain": [
       "{20, 21, 22, 'Dev', 'Rahul', 'Ram'}"
      ]
     },
     "execution_count": 31,
     "metadata": {},
     "output_type": "execute_result"
    }
   ],
   "source": []
  },
  {
   "cell_type": "code",
   "execution_count": null,
   "id": "8f7edb16-f438-4240-a1f4-c55894623bde",
   "metadata": {},
   "outputs": [],
   "source": []
  }
 ],
 "metadata": {
  "kernelspec": {
   "display_name": "Python 3 (ipykernel)",
   "language": "python",
   "name": "python3"
  },
  "language_info": {
   "codemirror_mode": {
    "name": "ipython",
    "version": 3
   },
   "file_extension": ".py",
   "mimetype": "text/x-python",
   "name": "python",
   "nbconvert_exporter": "python",
   "pygments_lexer": "ipython3",
   "version": "3.11.3"
  }
 },
 "nbformat": 4,
 "nbformat_minor": 5
}
