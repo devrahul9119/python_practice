{
 "cells": [
  {
   "cell_type": "code",
   "execution_count": 79,
   "id": "f9b86375-6882-4e37-91af-3a5d5c33670b",
   "metadata": {},
   "outputs": [],
   "source": [
    "class students:\n",
    "    __count = 20\n",
    "   \n",
    "\n",
    "    @staticmethod\n",
    "    def classes():\n",
    "        return students.__count\n",
    "    "
   ]
  },
  {
   "cell_type": "code",
   "execution_count": 85,
   "id": "8e106d07-8503-4daa-8812-4bc4a89662c4",
   "metadata": {},
   "outputs": [
    {
     "data": {
      "text/plain": [
       "20"
      ]
     },
     "execution_count": 85,
     "metadata": {},
     "output_type": "execute_result"
    }
   ],
   "source": [
    "students.classes()"
   ]
  },
  {
   "cell_type": "code",
   "execution_count": 91,
   "id": "f6ce2d6d-8680-4900-9a54-39b70ef1c290",
   "metadata": {},
   "outputs": [],
   "source": [
    "def decorators(func):\n",
    "    def wrapper():\n",
    "        print('**********************************')\n",
    "        func()\n",
    "        print('**********************************')\n",
    "    return wrapper\n",
    "\n",
    "@decorators\n",
    "def greet():\n",
    "    \n",
    "    num = int(input('Enter today date :'))\n",
    "    print('Hello,Rahul dev')\n",
    "    print(num)"
   ]
  },
  {
   "cell_type": "code",
   "execution_count": 92,
   "id": "2facabf9-21b5-4b5d-b9c3-854a7088c08c",
   "metadata": {},
   "outputs": [
    {
     "name": "stdout",
     "output_type": "stream",
     "text": [
      "**********************************\n"
     ]
    },
    {
     "name": "stdin",
     "output_type": "stream",
     "text": [
      "Enter today date : 21\n"
     ]
    },
    {
     "name": "stdout",
     "output_type": "stream",
     "text": [
      "Hello,Rahul dev\n",
      "21\n",
      "**********************************\n"
     ]
    }
   ],
   "source": [
    "greet()"
   ]
  },
  {
   "cell_type": "markdown",
   "id": "a02a24e7-d431-4a7c-85b8-5c268e003803",
   "metadata": {},
   "source": [
    "aggregation of classes"
   ]
  },
  {
   "cell_type": "code",
   "execution_count": 107,
   "id": "64cc3c30-9f72-4bcc-92b3-9db7ef84da55",
   "metadata": {},
   "outputs": [],
   "source": [
    "class customer:\n",
    "    def __init__(self,name,add):\n",
    "        self.name = name\n",
    "        self.add = add\n",
    "    def get_add(self):\n",
    "        return (self.add.get_city())\n",
    "\n",
    "class address:\n",
    "    def __init__(self,city,state):\n",
    "        self.__city = city\n",
    "        self.state = state\n",
    "\n",
    "    def get_city(self):\n",
    "        return self.__city"
   ]
  },
  {
   "cell_type": "code",
   "execution_count": 108,
   "id": "84ddd0cb-657f-442c-9feb-a1251b482b7f",
   "metadata": {},
   "outputs": [],
   "source": [
    "a = address('Jind','Hr')\n",
    "b = customer('Rahul',a)"
   ]
  },
  {
   "cell_type": "code",
   "execution_count": 109,
   "id": "ff5e90d2-a07a-4023-848f-df872ea24249",
   "metadata": {},
   "outputs": [
    {
     "data": {
      "text/plain": [
       "'Jind'"
      ]
     },
     "execution_count": 109,
     "metadata": {},
     "output_type": "execute_result"
    }
   ],
   "source": [
    "a.get_city()"
   ]
  },
  {
   "cell_type": "code",
   "execution_count": 110,
   "id": "5c6c17fd-0be6-4c03-a90d-3a23023bed70",
   "metadata": {},
   "outputs": [
    {
     "data": {
      "text/plain": [
       "'Jind'"
      ]
     },
     "execution_count": 110,
     "metadata": {},
     "output_type": "execute_result"
    }
   ],
   "source": [
    "b.get_add()"
   ]
  },
  {
   "cell_type": "code",
   "execution_count": null,
   "id": "6c17bc2d-d074-4f9b-91f7-cb1d9607455e",
   "metadata": {},
   "outputs": [],
   "source": [
    "Exception Handling"
   ]
  }
 ],
 "metadata": {
  "kernelspec": {
   "display_name": "Python 3 (ipykernel)",
   "language": "python",
   "name": "python3"
  },
  "language_info": {
   "codemirror_mode": {
    "name": "ipython",
    "version": 3
   },
   "file_extension": ".py",
   "mimetype": "text/x-python",
   "name": "python",
   "nbconvert_exporter": "python",
   "pygments_lexer": "ipython3",
   "version": "3.11.3"
  }
 },
 "nbformat": 4,
 "nbformat_minor": 5
}
