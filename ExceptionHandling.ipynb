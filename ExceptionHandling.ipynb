{
 "cells": [
  {
   "cell_type": "markdown",
   "id": "4c4bb3be-fdc4-4f99-a52a-6c00e3a24350",
   "metadata": {},
   "source": [
    "Exception Handling"
   ]
  },
  {
   "cell_type": "code",
   "execution_count": 2,
   "id": "b9817aa7-0340-4662-b2ab-5beb5c964501",
   "metadata": {},
   "outputs": [
    {
     "name": "stdin",
     "output_type": "stream",
     "text": [
      "Enter any number :  r\n"
     ]
    },
    {
     "name": "stdout",
     "output_type": "stream",
     "text": [
      "You have an error please resolve this error : invalid literal for int() with base 10: 'r'\n",
      "This statement will always execute if there is any error or not in python program \n"
     ]
    }
   ],
   "source": [
    "try:\n",
    "    num = int(input('Enter any number : '))\n",
    "    num2 = int(input('Enter any number : '))\n",
    "    result = num/num2\n",
    "    print(result)\n",
    "except Exception as e:\n",
    "    print(f'You have an error please resolve this error : {e}')\n",
    "else:\n",
    "    print('Thanks for using Python Programming Language')\n",
    "finally:\n",
    "    print('This statement will always execute if there is any error or not in python program ')\n"
   ]
  },
  {
   "cell_type": "code",
   "execution_count": null,
   "id": "5b213665-4ffe-49d0-9103-2fcbccc21275",
   "metadata": {},
   "outputs": [],
   "source": []
  }
 ],
 "metadata": {
  "kernelspec": {
   "display_name": "Python 3 (ipykernel)",
   "language": "python",
   "name": "python3"
  },
  "language_info": {
   "codemirror_mode": {
    "name": "ipython",
    "version": 3
   },
   "file_extension": ".py",
   "mimetype": "text/x-python",
   "name": "python",
   "nbconvert_exporter": "python",
   "pygments_lexer": "ipython3",
   "version": "3.11.3"
  }
 },
 "nbformat": 4,
 "nbformat_minor": 5
}
