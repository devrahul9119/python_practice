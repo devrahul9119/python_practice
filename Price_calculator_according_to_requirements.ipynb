{
  "nbformat": 4,
  "nbformat_minor": 0,
  "metadata": {
    "colab": {
      "provenance": [],
      "authorship_tag": "ABX9TyPwyKEJ/vZPjv1RqE4cjjGl",
      "include_colab_link": true
    },
    "kernelspec": {
      "name": "python3",
      "display_name": "Python 3"
    },
    "language_info": {
      "name": "python"
    }
  },
  "cells": [
    {
      "cell_type": "markdown",
      "metadata": {
        "id": "view-in-github",
        "colab_type": "text"
      },
      "source": [
        "<a href=\"https://colab.research.google.com/github/devrahul9119/python_practice/blob/master/Price_calculator_according_to_requirements.ipynb\" target=\"_parent\"><img src=\"https://colab.research.google.com/assets/colab-badge.svg\" alt=\"Open In Colab\"/></a>"
      ]
    },
    {
      "cell_type": "code",
      "execution_count": 3,
      "metadata": {
        "id": "JVi9MIrGcKvL"
      },
      "outputs": [],
      "source": [
        "class priceCalculator:\n",
        "  def __init__(self,fixed_price,fixed_kilometers,extra_charge):\n",
        "    self.fixed_price = fixed_price\n",
        "    self.fixed_kilometers = fixed_kilometers\n",
        "    self.extra_charge = extra_charge\n",
        "    self.total_price = None\n",
        "\n",
        "  def calculate_price(self,distance):\n",
        "    distance = distance*2\n",
        "    if distance <= self.fixed_kilometers:\n",
        "      self.total_price = self.fixed_price\n",
        "    else:\n",
        "      self.total_price = self.fixed_price + (distance - self.fixed_kilometers)*self.extra_charge\n",
        "\n",
        "    return self.total_price"
      ]
    },
    {
      "cell_type": "code",
      "source": [
        "calc = priceCalculator(250,60,4)"
      ],
      "metadata": {
        "id": "L99v4nRTfdIc"
      },
      "execution_count": 13,
      "outputs": []
    },
    {
      "cell_type": "code",
      "source": [
        "calc.calculate_price(30)"
      ],
      "metadata": {
        "colab": {
          "base_uri": "https://localhost:8080/"
        },
        "id": "Dqp-b3pQfi0I",
        "outputId": "2a880c6d-f8ee-4516-865c-c781621628d2"
      },
      "execution_count": 33,
      "outputs": [
        {
          "output_type": "execute_result",
          "data": {
            "text/plain": [
              "250"
            ]
          },
          "metadata": {},
          "execution_count": 33
        }
      ]
    },
    {
      "cell_type": "code",
      "source": [],
      "metadata": {
        "id": "JDOwqFztorKf"
      },
      "execution_count": null,
      "outputs": []
    }
  ]
}